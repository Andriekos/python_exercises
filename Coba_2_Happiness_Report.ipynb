{
 "cells": [
  {
   "cell_type": "code",
   "execution_count": 1,
   "metadata": {},
   "outputs": [],
   "source": [
    "import numpy as np\n",
    "import pandas as pd\n",
    "import matplotlib.pyplot as plt\n",
    "import seaborn as sns\n",
    "\n",
    "import warnings\n",
    "warnings.filterwarnings('ignore')\n"
   ]
  },
  {
   "cell_type": "code",
   "execution_count": 2,
   "metadata": {},
   "outputs": [],
   "source": [
    "df_16 = pd.read_csv(r'C:\\Users\\Lenovo\\Data\\HR2016.csv')\n",
    "df_17 = pd.read_csv(r'C:\\Users\\Lenovo\\Data\\HR2017.csv')"
   ]
  },
  {
   "cell_type": "code",
   "execution_count": 3,
   "metadata": {},
   "outputs": [],
   "source": [
    "df_16.columns = [each.split()[0] if(len(each.split())>2) else each.replace(\" \",\"_\") for each in df_16.columns]\n",
    "\n",
    "df_17.columns = [each.split()[0] if(len(each.split())>2) else each.replace(\".\",\" \") for each in df_17.columns]\n",
    "\n",
    "#df_17.columns = [each.split()[0] if(len(each.split())>2) else each.replace(\"\",\" \") for each in df_17.columns]"
   ]
  },
  {
   "cell_type": "code",
   "execution_count": 7,
   "metadata": {},
   "outputs": [
    {
     "data": {
      "text/html": [
       "<div>\n",
       "<style scoped>\n",
       "    .dataframe tbody tr th:only-of-type {\n",
       "        vertical-align: middle;\n",
       "    }\n",
       "\n",
       "    .dataframe tbody tr th {\n",
       "        vertical-align: top;\n",
       "    }\n",
       "\n",
       "    .dataframe thead th {\n",
       "        text-align: right;\n",
       "    }\n",
       "</style>\n",
       "<table border=\"1\" class=\"dataframe\">\n",
       "  <thead>\n",
       "    <tr style=\"text-align: right;\">\n",
       "      <th></th>\n",
       "      <th>Country</th>\n",
       "      <th>Region</th>\n",
       "      <th>Happiness_Rank</th>\n",
       "      <th>Happiness_Score</th>\n",
       "      <th>Lower</th>\n",
       "      <th>Upper</th>\n",
       "      <th>Economy</th>\n",
       "      <th>Family</th>\n",
       "      <th>Health</th>\n",
       "      <th>Freedom</th>\n",
       "      <th>Trust</th>\n",
       "      <th>Generosity</th>\n",
       "      <th>Dystopia_Residual</th>\n",
       "    </tr>\n",
       "  </thead>\n",
       "  <tbody>\n",
       "    <tr>\n",
       "      <th>0</th>\n",
       "      <td>Denmark</td>\n",
       "      <td>Western Europe</td>\n",
       "      <td>1</td>\n",
       "      <td>7.526</td>\n",
       "      <td>7.460</td>\n",
       "      <td>7.592</td>\n",
       "      <td>1.44178</td>\n",
       "      <td>1.16374</td>\n",
       "      <td>0.79504</td>\n",
       "      <td>0.57941</td>\n",
       "      <td>0.44453</td>\n",
       "      <td>0.36171</td>\n",
       "      <td>2.73939</td>\n",
       "    </tr>\n",
       "    <tr>\n",
       "      <th>1</th>\n",
       "      <td>Switzerland</td>\n",
       "      <td>Western Europe</td>\n",
       "      <td>2</td>\n",
       "      <td>7.509</td>\n",
       "      <td>7.428</td>\n",
       "      <td>7.590</td>\n",
       "      <td>1.52733</td>\n",
       "      <td>1.14524</td>\n",
       "      <td>0.86303</td>\n",
       "      <td>0.58557</td>\n",
       "      <td>0.41203</td>\n",
       "      <td>0.28083</td>\n",
       "      <td>2.69463</td>\n",
       "    </tr>\n",
       "    <tr>\n",
       "      <th>2</th>\n",
       "      <td>Iceland</td>\n",
       "      <td>Western Europe</td>\n",
       "      <td>3</td>\n",
       "      <td>7.501</td>\n",
       "      <td>7.333</td>\n",
       "      <td>7.669</td>\n",
       "      <td>1.42666</td>\n",
       "      <td>1.18326</td>\n",
       "      <td>0.86733</td>\n",
       "      <td>0.56624</td>\n",
       "      <td>0.14975</td>\n",
       "      <td>0.47678</td>\n",
       "      <td>2.83137</td>\n",
       "    </tr>\n",
       "    <tr>\n",
       "      <th>3</th>\n",
       "      <td>Norway</td>\n",
       "      <td>Western Europe</td>\n",
       "      <td>4</td>\n",
       "      <td>7.498</td>\n",
       "      <td>7.421</td>\n",
       "      <td>7.575</td>\n",
       "      <td>1.57744</td>\n",
       "      <td>1.12690</td>\n",
       "      <td>0.79579</td>\n",
       "      <td>0.59609</td>\n",
       "      <td>0.35776</td>\n",
       "      <td>0.37895</td>\n",
       "      <td>2.66465</td>\n",
       "    </tr>\n",
       "    <tr>\n",
       "      <th>4</th>\n",
       "      <td>Finland</td>\n",
       "      <td>Western Europe</td>\n",
       "      <td>5</td>\n",
       "      <td>7.413</td>\n",
       "      <td>7.351</td>\n",
       "      <td>7.475</td>\n",
       "      <td>1.40598</td>\n",
       "      <td>1.13464</td>\n",
       "      <td>0.81091</td>\n",
       "      <td>0.57104</td>\n",
       "      <td>0.41004</td>\n",
       "      <td>0.25492</td>\n",
       "      <td>2.82596</td>\n",
       "    </tr>\n",
       "  </tbody>\n",
       "</table>\n",
       "</div>"
      ],
      "text/plain": [
       "       Country          Region  Happiness_Rank  Happiness_Score  Lower  Upper  \\\n",
       "0      Denmark  Western Europe               1            7.526  7.460  7.592   \n",
       "1  Switzerland  Western Europe               2            7.509  7.428  7.590   \n",
       "2      Iceland  Western Europe               3            7.501  7.333  7.669   \n",
       "3       Norway  Western Europe               4            7.498  7.421  7.575   \n",
       "4      Finland  Western Europe               5            7.413  7.351  7.475   \n",
       "\n",
       "   Economy   Family   Health  Freedom    Trust  Generosity  Dystopia_Residual  \n",
       "0  1.44178  1.16374  0.79504  0.57941  0.44453     0.36171            2.73939  \n",
       "1  1.52733  1.14524  0.86303  0.58557  0.41203     0.28083            2.69463  \n",
       "2  1.42666  1.18326  0.86733  0.56624  0.14975     0.47678            2.83137  \n",
       "3  1.57744  1.12690  0.79579  0.59609  0.35776     0.37895            2.66465  \n",
       "4  1.40598  1.13464  0.81091  0.57104  0.41004     0.25492            2.82596  "
      ]
     },
     "execution_count": 7,
     "metadata": {},
     "output_type": "execute_result"
    }
   ],
   "source": [
    "df_16.head()"
   ]
  },
  {
   "cell_type": "code",
   "execution_count": 8,
   "metadata": {},
   "outputs": [
    {
     "name": "stdout",
     "output_type": "stream",
     "text": [
      "<class 'pandas.core.frame.DataFrame'>\n",
      "RangeIndex: 157 entries, 0 to 156\n",
      "Data columns (total 13 columns):\n",
      "Country              157 non-null object\n",
      "Region               157 non-null object\n",
      "Happiness_Rank       157 non-null int64\n",
      "Happiness_Score      157 non-null float64\n",
      "Lower                157 non-null float64\n",
      "Upper                157 non-null float64\n",
      "Economy              157 non-null float64\n",
      "Family               157 non-null float64\n",
      "Health               157 non-null float64\n",
      "Freedom              157 non-null float64\n",
      "Trust                157 non-null float64\n",
      "Generosity           157 non-null float64\n",
      "Dystopia_Residual    157 non-null float64\n",
      "dtypes: float64(10), int64(1), object(2)\n",
      "memory usage: 16.0+ KB\n"
     ]
    }
   ],
   "source": [
    "df_16.info()"
   ]
  },
  {
   "cell_type": "code",
   "execution_count": 9,
   "metadata": {},
   "outputs": [
    {
     "data": {
      "text/html": [
       "<div>\n",
       "<style scoped>\n",
       "    .dataframe tbody tr th:only-of-type {\n",
       "        vertical-align: middle;\n",
       "    }\n",
       "\n",
       "    .dataframe tbody tr th {\n",
       "        vertical-align: top;\n",
       "    }\n",
       "\n",
       "    .dataframe thead th {\n",
       "        text-align: right;\n",
       "    }\n",
       "</style>\n",
       "<table border=\"1\" class=\"dataframe\">\n",
       "  <thead>\n",
       "    <tr style=\"text-align: right;\">\n",
       "      <th></th>\n",
       "      <th>Country</th>\n",
       "      <th>Happiness Rank</th>\n",
       "      <th>Happiness Score</th>\n",
       "      <th>Whisker high</th>\n",
       "      <th>Whisker low</th>\n",
       "      <th>Economy  GDP per Capita</th>\n",
       "      <th>Family</th>\n",
       "      <th>Health  Life Expectancy</th>\n",
       "      <th>Freedom</th>\n",
       "      <th>Generosity</th>\n",
       "      <th>Trust  Government Corruption</th>\n",
       "      <th>Dystopia Residual</th>\n",
       "    </tr>\n",
       "  </thead>\n",
       "  <tbody>\n",
       "    <tr>\n",
       "      <th>0</th>\n",
       "      <td>Norway</td>\n",
       "      <td>1</td>\n",
       "      <td>7.537</td>\n",
       "      <td>7.594445</td>\n",
       "      <td>7.479556</td>\n",
       "      <td>1.616463</td>\n",
       "      <td>1.533524</td>\n",
       "      <td>0.796667</td>\n",
       "      <td>0.635423</td>\n",
       "      <td>0.362012</td>\n",
       "      <td>0.315964</td>\n",
       "      <td>2.277027</td>\n",
       "    </tr>\n",
       "    <tr>\n",
       "      <th>1</th>\n",
       "      <td>Denmark</td>\n",
       "      <td>2</td>\n",
       "      <td>7.522</td>\n",
       "      <td>7.581728</td>\n",
       "      <td>7.462272</td>\n",
       "      <td>1.482383</td>\n",
       "      <td>1.551122</td>\n",
       "      <td>0.792566</td>\n",
       "      <td>0.626007</td>\n",
       "      <td>0.355280</td>\n",
       "      <td>0.400770</td>\n",
       "      <td>2.313707</td>\n",
       "    </tr>\n",
       "    <tr>\n",
       "      <th>2</th>\n",
       "      <td>Iceland</td>\n",
       "      <td>3</td>\n",
       "      <td>7.504</td>\n",
       "      <td>7.622030</td>\n",
       "      <td>7.385970</td>\n",
       "      <td>1.480633</td>\n",
       "      <td>1.610574</td>\n",
       "      <td>0.833552</td>\n",
       "      <td>0.627163</td>\n",
       "      <td>0.475540</td>\n",
       "      <td>0.153527</td>\n",
       "      <td>2.322715</td>\n",
       "    </tr>\n",
       "    <tr>\n",
       "      <th>3</th>\n",
       "      <td>Switzerland</td>\n",
       "      <td>4</td>\n",
       "      <td>7.494</td>\n",
       "      <td>7.561772</td>\n",
       "      <td>7.426227</td>\n",
       "      <td>1.564980</td>\n",
       "      <td>1.516912</td>\n",
       "      <td>0.858131</td>\n",
       "      <td>0.620071</td>\n",
       "      <td>0.290549</td>\n",
       "      <td>0.367007</td>\n",
       "      <td>2.276716</td>\n",
       "    </tr>\n",
       "    <tr>\n",
       "      <th>4</th>\n",
       "      <td>Finland</td>\n",
       "      <td>5</td>\n",
       "      <td>7.469</td>\n",
       "      <td>7.527542</td>\n",
       "      <td>7.410458</td>\n",
       "      <td>1.443572</td>\n",
       "      <td>1.540247</td>\n",
       "      <td>0.809158</td>\n",
       "      <td>0.617951</td>\n",
       "      <td>0.245483</td>\n",
       "      <td>0.382612</td>\n",
       "      <td>2.430182</td>\n",
       "    </tr>\n",
       "  </tbody>\n",
       "</table>\n",
       "</div>"
      ],
      "text/plain": [
       "       Country  Happiness Rank  Happiness Score  Whisker high  Whisker low  \\\n",
       "0       Norway               1            7.537      7.594445     7.479556   \n",
       "1      Denmark               2            7.522      7.581728     7.462272   \n",
       "2      Iceland               3            7.504      7.622030     7.385970   \n",
       "3  Switzerland               4            7.494      7.561772     7.426227   \n",
       "4      Finland               5            7.469      7.527542     7.410458   \n",
       "\n",
       "   Economy  GDP per Capita     Family  Health  Life Expectancy    Freedom  \\\n",
       "0                  1.616463  1.533524                  0.796667  0.635423   \n",
       "1                  1.482383  1.551122                  0.792566  0.626007   \n",
       "2                  1.480633  1.610574                  0.833552  0.627163   \n",
       "3                  1.564980  1.516912                  0.858131  0.620071   \n",
       "4                  1.443572  1.540247                  0.809158  0.617951   \n",
       "\n",
       "   Generosity  Trust  Government Corruption   Dystopia Residual  \n",
       "0    0.362012                       0.315964           2.277027  \n",
       "1    0.355280                       0.400770           2.313707  \n",
       "2    0.475540                       0.153527           2.322715  \n",
       "3    0.290549                       0.367007           2.276716  \n",
       "4    0.245483                       0.382612           2.430182  "
      ]
     },
     "execution_count": 9,
     "metadata": {},
     "output_type": "execute_result"
    }
   ],
   "source": [
    "df_17.head()"
   ]
  },
  {
   "cell_type": "code",
   "execution_count": 10,
   "metadata": {},
   "outputs": [
    {
     "name": "stdout",
     "output_type": "stream",
     "text": [
      "<class 'pandas.core.frame.DataFrame'>\n",
      "RangeIndex: 155 entries, 0 to 154\n",
      "Data columns (total 12 columns):\n",
      "Country                          155 non-null object\n",
      "Happiness Rank                   155 non-null int64\n",
      "Happiness Score                  155 non-null float64\n",
      "Whisker high                     155 non-null float64\n",
      "Whisker low                      155 non-null float64\n",
      "Economy  GDP per Capita          155 non-null float64\n",
      "Family                           155 non-null float64\n",
      "Health  Life Expectancy          155 non-null float64\n",
      "Freedom                          155 non-null float64\n",
      "Generosity                       155 non-null float64\n",
      "Trust  Government Corruption     155 non-null float64\n",
      "Dystopia Residual                155 non-null float64\n",
      "dtypes: float64(10), int64(1), object(1)\n",
      "memory usage: 14.6+ KB\n"
     ]
    }
   ],
   "source": [
    "df_17.info()"
   ]
  },
  {
   "cell_type": "code",
   "execution_count": 14,
   "metadata": {},
   "outputs": [
    {
     "name": "stdout",
     "output_type": "stream",
     "text": [
      "Apakah ada data 2016 yang hilang? False\n",
      "Country              0\n",
      "Region               0\n",
      "Happiness_Rank       0\n",
      "Happiness_Score      0\n",
      "Lower                0\n",
      "Upper                0\n",
      "Economy              0\n",
      "Family               0\n",
      "Health               0\n",
      "Freedom              0\n",
      "Trust                0\n",
      "Generosity           0\n",
      "Dystopia_Residual    0\n",
      "dtype: int64\n",
      "\n",
      "Apakah ada data 2017 yang hilang? False\n",
      "Country                          0\n",
      "Happiness Rank                   0\n",
      "Happiness Score                  0\n",
      "Whisker high                     0\n",
      "Whisker low                      0\n",
      "Economy  GDP per Capita          0\n",
      "Family                           0\n",
      "Health  Life Expectancy          0\n",
      "Freedom                          0\n",
      "Generosity                       0\n",
      "Trust  Government Corruption     0\n",
      "Dystopia Residual                0\n",
      "dtype: int64\n"
     ]
    }
   ],
   "source": [
    "print('Apakah ada data 2016 yang hilang?',df_16.isnull().any().any())\n",
    "print(df_16.isnull().sum())\n",
    "print(\"\")\n",
    "print('Apakah ada data 2017 yang hilang?',df_17.isnull().any().any())\n",
    "print(df_17.isnull().sum())"
   ]
  },
  {
   "cell_type": "code",
   "execution_count": 16,
   "metadata": {
    "scrolled": true
   },
   "outputs": [
    {
     "name": "stdout",
     "output_type": "stream",
     "text": [
      "\n",
      "Regions in dataset:\n",
      "\n",
      "There are 10 regions in 2016 dataset\n",
      "\n",
      "['Western Europe' 'North America' 'Australia and New Zealand'\n",
      " 'Middle East and Northern Africa' 'Latin America and Caribbean'\n",
      " 'Southeastern Asia' 'Central and Eastern Europe' 'Eastern Asia'\n",
      " 'Sub-Saharan Africa' 'Southern Asia']\n"
     ]
    }
   ],
   "source": [
    "print('\\nRegions in dataset:\\n')\n",
    "print('There are {} regions in 2016 dataset\\n'.format(len(df_16.Region.unique())))\n",
    "print(df_16.Region.unique())"
   ]
  },
  {
   "cell_type": "code",
   "execution_count": 85,
   "metadata": {},
   "outputs": [
    {
     "data": {
      "text/plain": [
       "9"
      ]
     },
     "execution_count": 85,
     "metadata": {},
     "output_type": "execute_result"
    }
   ],
   "source": [
    "country = df_16[asean_regions]\n",
    "\n",
    "len(country)"
   ]
  },
  {
   "cell_type": "code",
   "execution_count": 105,
   "metadata": {},
   "outputs": [
    {
     "data": {
      "text/plain": [
       "5.338888888888889"
      ]
     },
     "execution_count": 105,
     "metadata": {},
     "output_type": "execute_result"
    }
   ],
   "source": [
    "df_16[asean_regions]\n",
    "\n",
    "sum(df_16[asean_regions]['Happiness_Score'])\n",
    "\n",
    "asean_happiness_ratio = []\n",
    "for x in asean_regions:\n",
    "    country = df_16[asean_regions]\n",
    "    len_country = len(country)\n",
    "    asean_happines_ratio = sum(df_16[asean_regions]['Happiness_Score'])/len_country\n",
    "\n",
    "\n",
    "asean_happines_ratio"
   ]
  },
  {
   "cell_type": "code",
   "execution_count": 118,
   "metadata": {
    "scrolled": false
   },
   "outputs": [
    {
     "data": {
      "image/png": "[encoded data removed]",
      "text/plain": [
       "<Figure size 432x288 with 1 Axes>"
      ]
     },
     "metadata": {
      "needs_background": "light"
     },
     "output_type": "display_data"
    }
   ],
   "source": [
    "asean_regions = (df_16['Region']=='Southeastern Asia')\n",
    "\n",
    "plot = df_16[asean_regions].plot(kind='Bar',x='Country').set_ylabel('Score')\n",
    "\n",
    "fig = plot.get_figure()\n",
    "\n",
    "plt.show()"
   ]
  },
  {
   "cell_type": "code",
   "execution_count": 58,
   "metadata": {},
   "outputs": [
    {
     "data": {
      "text/html": [
       "<div>\n",
       "<style scoped>\n",
       "    .dataframe tbody tr th:only-of-type {\n",
       "        vertical-align: middle;\n",
       "    }\n",
       "\n",
       "    .dataframe tbody tr th {\n",
       "        vertical-align: top;\n",
       "    }\n",
       "\n",
       "    .dataframe thead th {\n",
       "        text-align: right;\n",
       "    }\n",
       "</style>\n",
       "<table border=\"1\" class=\"dataframe\">\n",
       "  <thead>\n",
       "    <tr style=\"text-align: right;\">\n",
       "      <th></th>\n",
       "      <th>Region</th>\n",
       "      <th>Region Happiness Ratio</th>\n",
       "    </tr>\n",
       "  </thead>\n",
       "  <tbody>\n",
       "    <tr>\n",
       "      <th>2</th>\n",
       "      <td>Australia and New Zealand</td>\n",
       "      <td>7.323500</td>\n",
       "    </tr>\n",
       "    <tr>\n",
       "      <th>1</th>\n",
       "      <td>North America</td>\n",
       "      <td>7.254000</td>\n",
       "    </tr>\n",
       "    <tr>\n",
       "      <th>0</th>\n",
       "      <td>Western Europe</td>\n",
       "      <td>6.685667</td>\n",
       "    </tr>\n",
       "    <tr>\n",
       "      <th>4</th>\n",
       "      <td>Latin America and Caribbean</td>\n",
       "      <td>6.101750</td>\n",
       "    </tr>\n",
       "    <tr>\n",
       "      <th>7</th>\n",
       "      <td>Eastern Asia</td>\n",
       "      <td>5.624167</td>\n",
       "    </tr>\n",
       "    <tr>\n",
       "      <th>3</th>\n",
       "      <td>Middle East and Northern Africa</td>\n",
       "      <td>5.386053</td>\n",
       "    </tr>\n",
       "    <tr>\n",
       "      <th>6</th>\n",
       "      <td>Central and Eastern Europe</td>\n",
       "      <td>5.370690</td>\n",
       "    </tr>\n",
       "    <tr>\n",
       "      <th>5</th>\n",
       "      <td>Southeastern Asia</td>\n",
       "      <td>5.338889</td>\n",
       "    </tr>\n",
       "    <tr>\n",
       "      <th>9</th>\n",
       "      <td>Southern Asia</td>\n",
       "      <td>4.563286</td>\n",
       "    </tr>\n",
       "    <tr>\n",
       "      <th>8</th>\n",
       "      <td>Sub-Saharan Africa</td>\n",
       "      <td>4.136421</td>\n",
       "    </tr>\n",
       "  </tbody>\n",
       "</table>\n",
       "</div>"
      ],
      "text/plain": [
       "                            Region  Region Happiness Ratio\n",
       "2        Australia and New Zealand                7.323500\n",
       "1                    North America                7.254000\n",
       "0                   Western Europe                6.685667\n",
       "4      Latin America and Caribbean                6.101750\n",
       "7                     Eastern Asia                5.624167\n",
       "3  Middle East and Northern Africa                5.386053\n",
       "6       Central and Eastern Europe                5.370690\n",
       "5                Southeastern Asia                5.338889\n",
       "9                    Southern Asia                4.563286\n",
       "8               Sub-Saharan Africa                4.136421"
      ]
     },
     "execution_count": 58,
     "metadata": {},
     "output_type": "execute_result"
    }
   ],
   "source": [
    "list_regions = list(df_16['Region'].unique())\n",
    "region_happiness_ratio = []\n",
    "for x in list_regions:\n",
    "    region = df_16[df_16['Region']==x]\n",
    "    region_happiness_rate = sum(region.Happiness_Score)/len(region)\n",
    "    region_happiness_ratio.append(region_happiness_rate)\n",
    "    \n",
    "data = pd.DataFrame({'Region':list_regions,'Region Happiness Ratio':region_happiness_ratio})\n",
    "new_index = (data['Region Happiness Ratio'].sort_values(ascending = False)).index.values\n",
    "sorted_data = data.reindex(new_index)\n",
    "\n",
    "sorted_data"
   ]
  },
  {
   "cell_type": "code",
   "execution_count": 59,
   "metadata": {},
   "outputs": [
    {
     "data": {
      "image/png": "[encoded data removed]",
      "text/plain": [
       "<Figure size 864x720 with 1 Axes>"
      ]
     },
     "metadata": {
      "needs_background": "light"
     },
     "output_type": "display_data"
    }
   ],
   "source": [
    "plt.figure(figsize=(12,10))\n",
    "sns.barplot(x=sorted_data['Region'],y=sorted_data['Region Happiness Ratio'],\n",
    "           palette=sns.cubehelix_palette(len(sorted_data['Region'])))\n",
    "\n",
    "plt.xticks(rotation = 90)\n",
    "plt.xlabel('Region')\n",
    "plt.ylabel('Region Happiness Ratio')\n",
    "plt.title('Happiness Rate for regions')\n",
    "\n",
    "plt.show()"
   ]
  },
  {
   "cell_type": "code",
   "execution_count": 123,
   "metadata": {},
   "outputs": [
    {
     "data": {
      "text/html": [
       "<div>\n",
       "<style scoped>\n",
       "    .dataframe tbody tr th:only-of-type {\n",
       "        vertical-align: middle;\n",
       "    }\n",
       "\n",
       "    .dataframe tbody tr th {\n",
       "        vertical-align: top;\n",
       "    }\n",
       "\n",
       "    .dataframe thead th {\n",
       "        text-align: right;\n",
       "    }\n",
       "</style>\n",
       "<table border=\"1\" class=\"dataframe\">\n",
       "  <thead>\n",
       "    <tr style=\"text-align: right;\">\n",
       "      <th></th>\n",
       "      <th>Region</th>\n",
       "      <th>Region Economy Ratio</th>\n",
       "    </tr>\n",
       "  </thead>\n",
       "  <tbody>\n",
       "    <tr>\n",
       "      <th>8</th>\n",
       "      <td>Sub-Saharan Africa</td>\n",
       "      <td>0.474321</td>\n",
       "    </tr>\n",
       "    <tr>\n",
       "      <th>9</th>\n",
       "      <td>Southern Asia</td>\n",
       "      <td>0.660671</td>\n",
       "    </tr>\n",
       "    <tr>\n",
       "      <th>5</th>\n",
       "      <td>Southeastern Asia</td>\n",
       "      <td>0.896381</td>\n",
       "    </tr>\n",
       "    <tr>\n",
       "      <th>4</th>\n",
       "      <td>Latin America and Caribbean</td>\n",
       "      <td>0.993410</td>\n",
       "    </tr>\n",
       "    <tr>\n",
       "      <th>6</th>\n",
       "      <td>Central and Eastern Europe</td>\n",
       "      <td>1.047537</td>\n",
       "    </tr>\n",
       "  </tbody>\n",
       "</table>\n",
       "</div>"
      ],
      "text/plain": [
       "                        Region  Region Economy Ratio\n",
       "8           Sub-Saharan Africa              0.474321\n",
       "9                Southern Asia              0.660671\n",
       "5            Southeastern Asia              0.896381\n",
       "4  Latin America and Caribbean              0.993410\n",
       "6   Central and Eastern Europe              1.047537"
      ]
     },
     "execution_count": 123,
     "metadata": {},
     "output_type": "execute_result"
    }
   ],
   "source": [
    "list_regions = list(df_16['Region'].unique())\n",
    "\n",
    "region_economy_ratio = []\n",
    "\n",
    "for x in list_regions:\n",
    "    region = df_16[df_16['Region']==x]\n",
    "    region_economy_rate = sum(region.Economy)/len(region)\n",
    "    region_economy_ratio.append(region_economy_rate)\n",
    "    \n",
    "data_economy = pd.DataFrame({'Region':list_regions,\n",
    "                            'Region Economy Ratio':region_economy_ratio\n",
    "})\n",
    "new_index_economy = (data_economy['Region Economy Ratio'].sort_values(ascending=True)).index.values\n",
    "sorted_data_economy = data_economy.reindex(new_index_economy)\n",
    "\n",
    "sorted_data_economy.head()"
   ]
  },
  {
   "cell_type": "code",
   "execution_count": 128,
   "metadata": {},
   "outputs": [
    {
     "data": {
      "image/png": "[encoded data removed]",
      "text/plain": [
       "<Figure size 864x720 with 1 Axes>"
      ]
     },
     "metadata": {
      "needs_background": "light"
     },
     "output_type": "display_data"
    }
   ],
   "source": [
    "fig, axes = plt.subplots(figsize=(12,10))\n",
    "\n",
    "sns.barplot(x=sorted_data_economy['Region'],y=sorted_data_economy['Region Economy Ratio'],palette='rocket',ax=axes)\n",
    "\n",
    "plt.xticks(rotation=90)\n",
    "plt.xlabel('Region')\n",
    "plt.ylabel('Region Economy Ratio')\n",
    "plt.title('Economy Rate for Regions')\n",
    "plt.tight_layout()"
   ]
  },
  {
   "cell_type": "code",
   "execution_count": 134,
   "metadata": {},
   "outputs": [
    {
     "data": {
      "image/png": "[encoded data removed]",
      "text/plain": [
       "<Figure size 720x360 with 1 Axes>"
      ]
     },
     "metadata": {
      "needs_background": "light"
     },
     "output_type": "display_data"
    }
   ],
   "source": [
    "list_regions = list(df_16['Region'].unique())\n",
    "\n",
    "ratio_economy = []\n",
    "ratio_family = []\n",
    "ratio_health = []\n",
    "ratio_freedom = []\n",
    "ratio_trust = []\n",
    "\n",
    "for x in list_regions:\n",
    "    region = df_16[df_16['Region']==x]\n",
    "    \n",
    "    ratio_economy.append(sum(region.Economy)/len(region))\n",
    "    \n",
    "    ratio_family.append(sum(region.Family)/len(region))\n",
    "    \n",
    "    ratio_health.append(sum(region.Health)/len(region))\n",
    "    \n",
    "    ratio_freedom.append(sum(region.Freedom)/len(region))\n",
    "    \n",
    "    ratio_trust.append(sum(region.Trust)/len(region))\n",
    "\n",
    "    \n",
    "fig, axes = plt.subplots(figsize=(10,5))\n",
    "\n",
    "sns.set_color_codes('pastel')\n",
    "\n",
    "sns.barplot(x=ratio_economy, y=list_regions,color='g',label='Economy')\n",
    "sns.barplot(x=ratio_family, y=list_regions,color='b',label='Family')\n",
    "sns.barplot(x=ratio_health, y=list_regions,color='r',label='Health')\n",
    "sns.barplot(x=ratio_freedom, y=list_regions,color='c',label='Freedom')\n",
    "sns.barplot(x=ratio_trust, y=list_regions,color='y',label='Trust')\n",
    "\n",
    "axes.legend(loc=4,frameon=True)\n",
    "axes.set(xlabel='Pecentage of Region',ylabel='Region',title='Factors Affecting Happiness Score')\n",
    "\n",
    "plt.show()"
   ]
  },
  {
   "cell_type": "code",
   "execution_count": null,
   "metadata": {},
   "outputs": [],
   "source": []
  }
 ],
 "metadata": {
  "kernelspec": {
   "display_name": "Python 3",
   "language": "python",
   "name": "python3"
  },
  "language_info": {
   "codemirror_mode": {
    "name": "ipython",
    "version": 3
   },
   "file_extension": ".py",
   "mimetype": "text/x-python",
   "name": "python",
   "nbconvert_exporter": "python",
   "pygments_lexer": "ipython3",
   "version": "3.7.3"
  }
 },
 "nbformat": 4,
 "nbformat_minor": 2
}
